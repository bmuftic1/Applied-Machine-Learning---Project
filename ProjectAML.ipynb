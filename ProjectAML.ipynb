{
 "cells": [
  {
   "cell_type": "markdown",
   "metadata": {},
   "source": [
    "# Applied Machine Learning - Project (Python)"
   ]
  },
  {
   "cell_type": "markdown",
   "metadata": {},
   "source": [
    "## Belma Muftic\n",
    "## D17127216"
   ]
  },
  {
   "cell_type": "markdown",
   "metadata": {},
   "source": [
    "### 20.05.2018"
   ]
  },
  {
   "cell_type": "code",
   "execution_count": 154,
   "metadata": {
    "collapsed": true
   },
   "outputs": [],
   "source": [
    "import csv\n",
    "import numpy as np\n",
    "import pandas as pd\n",
    "import math\n",
    "import matplotlib.pyplot as plt\n",
    "from sklearn import svm\n",
    "from sklearn.metrics import accuracy_score\n",
    "from sklearn import neighbors, metrics\n",
    "from sklearn.naive_bayes import GaussianNB\n",
    "from sklearn.ensemble import RandomForestClassifier\n",
    "from sklearn.model_selection import KFold, cross_val_score,LeaveOneOut, StratifiedKFold\n",
    "from sklearn.metrics import confusion_matrix"
   ]
  },
  {
   "cell_type": "code",
   "execution_count": 155,
   "metadata": {
    "collapsed": true
   },
   "outputs": [],
   "source": [
    "train = pd.read_csv('train.csv').as_matrix()\n",
    "copyT = train\n",
    "outcome = train[:, 1:2]\n",
    "\n",
    "train = train[:, 2:12]"
   ]
  },
  {
   "cell_type": "code",
   "execution_count": 156,
   "metadata": {
    "collapsed": true
   },
   "outputs": [],
   "source": [
    "#Sex\n",
    "#convert it into two classes according to gender\n",
    "train[train=='male']=1\n",
    "train[train=='female']=2\n",
    "\n",
    "\n",
    "#Embarked\n",
    "#convert into three classes, since there are three possible values\n",
    "#missing data: count for each ticket class how many passengers embarked from that port, seperately for men and women\n",
    "#the missing value will be the embarked value with the maximum count for the class and gender of the person's missing info\n",
    "\n",
    "train[train=='S']=1\n",
    "train[train=='C']=2\n",
    "train[train=='Q']=3\n",
    "counterM=[[0,0,0],[0,0,0],[0,0,0]]\n",
    "counterF=[[0,0,0],[0,0,0],[0,0,0]]\n",
    "extract = train[:,9:10]\n",
    "\n",
    "for i in range(0,len(train)):\n",
    "    if((math.isnan(extract[i])==False) & (train[i][2]==1)): #male\n",
    "        embarked = train[i][9]-1\n",
    "        Pclass=copyT[i][2]-1\n",
    "        counterM[Pclass][embarked]=counterM[Pclass][embarked]+1\n",
    "    elif((math.isnan(extract[i])==False) & (train[i][2]==2)):\n",
    "        embarked = train[i][9]-1\n",
    "        Pclass=copyT[i][2]-1\n",
    "        counterF[Pclass][embarked]=counterF[Pclass][embarked]+1\n",
    "\n",
    "for i in range(0,len(train)):\n",
    "    if((math.isnan(extract[i])==True) & (train[i][2]==1)):\n",
    "        Pclass=copyT[i][2]-1\n",
    "        train[i,9]=np.argmax(counterM[Pclass])+1\n",
    "    elif((math.isnan(extract[i])==True) & (train[i][2]==2)):\n",
    "        Pclass=copyT[i][2]-1\n",
    "        train[i,9]=np.argmax(counterF[Pclass])+1\n",
    "        \n",
    "#Fare\n",
    "#the transformation is based on roughly established data\n",
    "#it classifies the passengers into 6 categories\n",
    "extract = train[:,7:8]\n",
    "extract[extract<1]=1\n",
    "extract[(extract<=25) & (extract>=1)]=2\n",
    "extract[(extract<=55) & (extract>25)]=3\n",
    "extract[(extract<=85) & (extract>55)]=4\n",
    "extract[(extract<=120) & (extract>85)]=5\n",
    "extract[extract>120]=6\n",
    "train[:,7:8]=extract\n",
    "\n",
    "#Cabin\n",
    "#the transofrmation is merely based on whether the person had a cabin or not\n",
    "extract = train[:,8:9]\n",
    "extract[extract=='']=0\n",
    "extract[extract!='']=1\n",
    "train[:,8:9]=extract\n",
    "\n",
    "#Age\n",
    "#in order to deal with missing values for the age of the passengers, the following parameters were included for forming groups:\n",
    "#1. Sex\n",
    "#2. Title for the women (if it is 'Miss' or 'Mrs/Ms')\n",
    "#3. Class\n",
    "#the missing value is the appropriate average value for that person's sex, title and class\n",
    "#the age classiffication is based on 8 categories:\n",
    "#1. toddlers\n",
    "#2. children\n",
    "#3. teens\n",
    "#4. young adults (not married, or married without children)\n",
    "#5. aged between 25 and 35, likely to have small children with them\n",
    "#6. aged between 35 and 50, likely to be travelling by business\n",
    "#7. aged between 50 and 65, likely to be travelling with their spouse\n",
    "#8. old people who might be incapable of rescuing themselves\n",
    "\n",
    "sumMiss = [0,0,0]\n",
    "sumMrs = [0,0,0]\n",
    "counterMiss=[0,0,0]\n",
    "counterMrs=[0,0,0]\n",
    "\n",
    "for i in range(0, len(copyT)):\n",
    "    \n",
    "    if((copyT[i][4]==2) & ('Miss' in copyT[i][3]) & (math.isnan(copyT[i][5])==False)):\n",
    "        Pclass=copyT[i][2]-1\n",
    "        age = copyT[i][5]\n",
    "        sumMiss[Pclass]=sumMiss[Pclass]+age\n",
    "        counterMiss[Pclass]=counterMiss[Pclass]+1\n",
    "    elif((copyT[i][4]==2) & (('Mrs' in copyT[i][3]) | ('Ms' in copyT[i][3])) & (math.isnan(copyT[i][5])==False)):\n",
    "        Pclass=copyT[i][2]-1\n",
    "        age = copyT[i][5]\n",
    "        sumMrs[Pclass]=sumMrs[Pclass]+age\n",
    "        counterMrs[Pclass]=counterMrs[Pclass]+1\n",
    "\n",
    "resultMiss = [a/b for a,b in zip(sumMiss, counterMiss)]\n",
    "resultMrs = [a/b for a,b in zip(sumMrs, counterMrs)]\n",
    "\n",
    "for i in range(0, len(train)):\n",
    "    if((copyT[i][4]==2) & ('Miss' in copyT[i][3]) & (math.isnan(copyT[i][5])==True)):\n",
    "        Pclass=copyT[i][2]-1\n",
    "        train[i][3]=round(resultMiss[Pclass])\n",
    "    elif((copyT[i][4]==2) & (('Mrs' in copyT[i][3]) | ('Ms' in copyT[i][3])) & (math.isnan(copyT[i][5])==True)):\n",
    "        Pclass=copyT[i][2]-1\n",
    "        train[i][3]=round(resultMrs[Pclass])\n",
    "\n",
    "sumMr=[0,0,0]\n",
    "counterMr=[0,0,0]\n",
    "for i in range(0, len(copyT)):\n",
    "    \n",
    "    if((copyT[i][4]==1) & (math.isnan(copyT[i][5])==False)):\n",
    "        Pclass=copyT[i][2]-1\n",
    "        age = copyT[i][5]\n",
    "        sumMr[Pclass]=sumMr[Pclass]+age\n",
    "        counterMr[Pclass]=counterMr[Pclass]+1\n",
    "\n",
    "resultMr = [a/b for a,b in zip(sumMr, counterMr)]\n",
    "\n",
    "for i in range(0, len(train)):\n",
    "    if((copyT[i][4]==1) & (math.isnan(copyT[i][5])==True)):\n",
    "        Pclass=copyT[i][2]-1\n",
    "        train[i][3]=round(resultMr[Pclass])\n",
    "\n",
    "        \n",
    "#classify age\n",
    "extract=train[:,3:4]\n",
    "extract[extract<=5]=1\n",
    "extract[(extract<=13) & (extract>5)]=2\n",
    "extract[(extract<=18) & (extract>13)]=3\n",
    "extract[(extract<=25) & (extract>18)]=4\n",
    "extract[(extract<=35) & (extract>25)]=5\n",
    "extract[(extract<=50) & (extract>35)]=6\n",
    "extract[(extract<=65) & (extract>50)]=7\n",
    "extract[extract>65]=8\n",
    "train[:,3:4]=extract\n",
    "\n",
    "        \n",
    "#Sibling/Spouse\n",
    "#this transformation lets us roughly differentiate between:\n",
    "#1. persons travelling alone\n",
    "#2. persons with a spouse\n",
    "#3. children\n",
    "#NOTE: of course, not all children have more than 1 sibling, but for simplicity, that was the assumption I made\n",
    "extract = train[:,4:5]\n",
    "extract[extract>1]=3\n",
    "extract[extract==1]=2\n",
    "extract[extract==0]=1\n",
    "train[:,4:5]=extract\n",
    "\n",
    "#Parent/Children\n",
    "#this transformation lets us roughly differentiate between:\n",
    "#1. persons travelling alone\n",
    "#2. parents and children\n",
    "extract = train[:,5:6]\n",
    "extract[extract>0]=2\n",
    "extract[extract==0]=1\n",
    "train[:,5:6]=extract\n",
    "\n",
    "#Ticket\n",
    "#if the ticket has PC in its value, that indicates a person from the first class\n",
    "for i in range(0,len(train)):\n",
    "    if ('PC' in train[i][6]):\n",
    "        train[i][6]=1\n",
    "    elif('PC' not in train[i][6]):\n",
    "        train[i][6]=0\n",
    "\n",
    "\n",
    "#delete name column since it cannot be used, unless it is compared to names which were an indication of wealth then\n",
    "train=np.delete(train, 1, 1)"
   ]
  },
  {
   "cell_type": "code",
   "execution_count": 157,
   "metadata": {
    "collapsed": true
   },
   "outputs": [],
   "source": [
    "test = pd.read_csv('test.csv').as_matrix()\n",
    "truth = np.genfromtxt('truth.csv', dtype='unicode', delimiter=',')\n",
    "test=test[:,1:]\n",
    "\n",
    "#the transformation is same as with the train data\n",
    "\n",
    "#Sex\n",
    "test[test=='male']=1\n",
    "test[test=='female']=2\n",
    "\n",
    "#Embarked\n",
    "test[test=='S']=1\n",
    "test[test=='C']=2\n",
    "test[test=='Q']=3\n",
    "counterM=[[0,0,0],[0,0,0],[0,0,0]]\n",
    "counterF=[[0,0,0],[0,0,0],[0,0,0]]\n",
    "extract = test[:,9:10]\n",
    "\n",
    "for i in range(0,len(test)):\n",
    "    if((math.isnan(extract[i])==False) & (test[i][2]==1)): #male\n",
    "        embarked = test[i][9]-1\n",
    "        Pclass=test[i][0]-1\n",
    "        counterM[Pclass][embarked]=counterM[Pclass][embarked]+1\n",
    "    elif((math.isnan(extract[i])==False) & (test[i][2]==2)):\n",
    "        embarked = test[i][9]-1\n",
    "        Pclass=test[i][0]-1\n",
    "        counterF[Pclass][embarked]=counterF[Pclass][embarked]+1      \n",
    "        \n",
    "for i in range(0,len(test)):\n",
    "    if((math.isnan(test[i,9])==True) & (test[i][2]==1)):\n",
    "        Pclass=test[i][0]-1\n",
    "        test[i,9]=np.argmax(counterM[Pclass])+1\n",
    "    elif((math.isnan(test[i,9])==True) & (test[i][2]==2)):\n",
    "        Pclass=test[i][0]-1\n",
    "        test[i,9]=np.argmax(counterF[Pclass])+1\n",
    "\n",
    "        \n",
    "#Fare\n",
    "#missing values: find the average fare for the ticket a man/woman paid\n",
    "fareM = list()\n",
    "fareF = list()\n",
    "for i in range(0,len(test)):\n",
    "    if ((test[i,2]==1) & (math.isnan(test[i,7])==False)):\n",
    "        fareM.append(test[i,7])\n",
    "    elif ((test[i,2]==2) & (math.isnan(test[i,7])==False)):\n",
    "        fareF.append(test[i,7])\n",
    "        \n",
    "for i in range(0,len(test)):\n",
    "    if ((test[i,2]==1) & (math.isnan(test[i,7]))):\n",
    "        test[i,7]=np.average(fareM)\n",
    "    elif ((test[i,2]==2) & (math.isnan(test[i,7]))):\n",
    "        test[i,7]=np.average(fareF)\n",
    "\n",
    "extract = test[:,7:8]\n",
    "extract[extract<1]=1\n",
    "extract[(extract<=25) & (extract>=1)]=2\n",
    "extract[(extract<=55) & (extract>25)]=3\n",
    "extract[(extract<=85) & (extract>55)]=4\n",
    "extract[(extract<=120) & (extract>85)]=5\n",
    "extract[extract>120]=6\n",
    "test[:,7:8]=extract\n",
    "\n",
    "#Cabin\n",
    "extract = test[:,8:9]\n",
    "extract[extract=='']=0\n",
    "extract[extract!='']=1\n",
    "test[:,8:9]=extract\n",
    "\n",
    "#Age\n",
    "sumMiss = [0,0,0]\n",
    "sumMrs = [0,0,0]\n",
    "counterMiss=[0,0,0]\n",
    "counterMrs=[0,0,0]\n",
    "\n",
    "for i in range(0, len(test)):\n",
    "    \n",
    "    if((test[i][2]==2) & ('Miss' in test[i][1]) & (math.isnan(test[i][3])==False)):\n",
    "        Pclass=test[i][0]-1\n",
    "        age = test[i][3]\n",
    "        sumMiss[Pclass]=sumMiss[Pclass]+age\n",
    "        counterMiss[Pclass]=counterMiss[Pclass]+1\n",
    "    elif((test[i][2]==2) & (('Mrs' in test[i][1]) | ('Ms' in test[i][1])) & (math.isnan(test[i][3])==False)):\n",
    "        Pclass=test[i][0]-1\n",
    "        age = test[i][3]\n",
    "        sumMrs[Pclass]=sumMrs[Pclass]+age\n",
    "        counterMrs[Pclass]=counterMrs[Pclass]+1\n",
    "\n",
    "resultMiss = [a/b for a,b in zip(sumMiss, counterMiss)]\n",
    "resultMrs = [a/b for a,b in zip(sumMrs, counterMrs)]\n",
    "\n",
    "for i in range(0, len(test)):\n",
    "    if((test[i][2]==2) & ('Miss' in test[i][1]) & (math.isnan(test[i][3])==True)):\n",
    "        Pclass=test[i][0]-1\n",
    "        test[i][3]=round(resultMiss[Pclass])\n",
    "    elif((test[i][2]==2) & (('Mrs' in test[i][1]) | ('Ms' in test[i][1])) & (math.isnan(test[i][3])==True)):\n",
    "        Pclass=test[i][0]-1\n",
    "        test[i][3]=round(resultMrs[Pclass])\n",
    "\n",
    "sumMr=[0,0,0]\n",
    "counterMr=[0,0,0]\n",
    "for i in range(0, len(test)):\n",
    "    \n",
    "    if((test[i][2]==1) & (math.isnan(test[i][3])==False)):\n",
    "        Pclass=test[i][0]-1\n",
    "        age = test[i][3]\n",
    "        sumMr[Pclass]=sumMr[Pclass]+age\n",
    "        counterMr[Pclass]=counterMr[Pclass]+1\n",
    "\n",
    "resultMr = [a/b for a,b in zip(sumMr, counterMr)]\n",
    "\n",
    "for i in range(0, len(test)):\n",
    "    if((test[i][2]==1) & (math.isnan(test[i][3])==True)):\n",
    "        Pclass=test[i][0]-1\n",
    "        test[i][3]=round(resultMr[Pclass])\n",
    "        \n",
    "#classify age\n",
    "extract=test[:,3:4]\n",
    "\n",
    "extract[extract<=5]=1\n",
    "extract[(extract<=13) & (extract>5)]=2\n",
    "extract[(extract<=18) & (extract>13)]=3\n",
    "extract[(extract<=25) & (extract>18)]=4\n",
    "extract[(extract<=35) & (extract>25)]=5\n",
    "extract[(extract<=50) & (extract>35)]=6\n",
    "extract[(extract<=65) & (extract>50)]=7\n",
    "extract[extract>65]=8\n",
    "test[:,3:4]=extract \n",
    "    \n",
    "        \n",
    "#Sibling/Spouse\n",
    "extract = test[:,4:5]\n",
    "extract[extract>1]=3\n",
    "extract[extract==1]=2\n",
    "extract[extract==0]=1\n",
    "test[:,4:5]=extract\n",
    "\n",
    "#Parent/Children\n",
    "extract = test[:,5:6]\n",
    "extract[extract>0]=2\n",
    "extract[extract==0]=1\n",
    "test[:,5:6]=extract\n",
    "\n",
    "#Ticket\n",
    "for i in range(0,len(test)):\n",
    "    if ('PC' in test[i][6]):\n",
    "        test[i][6]=1\n",
    "    elif('PC' not in test[i][6]):\n",
    "        test[i][6]=0\n",
    "\n",
    "        \n",
    "#delete name column\n",
    "test=np.delete(test, 1, 1)\n",
    "\n",
    "\n",
    "#the code below saves the transformed data so that it can be used by exercise 2 (clustering in R)\n",
    "#NOTE: after it is modified, the first row of the file is changed to indicate the header\n",
    "#the row is: PassengerId,Pclass,Sex,Age,SibSp,ParCh,Ticket,Fare,Cabin,Embarked\n",
    "\n",
    "# df = pd.DataFrame(train)\n",
    "# df.to_csv(\"trainModified.csv\") "
   ]
  },
  {
   "cell_type": "code",
   "execution_count": 158,
   "metadata": {},
   "outputs": [
    {
     "name": "stdout",
     "output_type": "stream",
     "text": [
      "Optimum value for k: 2\n"
     ]
    }
   ],
   "source": [
    "#KNN\n",
    "tempOutcome = outcome\n",
    "tempTrain = train\n",
    "tempTest = test\n",
    "tempTruth = truth\n",
    "outcome = outcome.ravel()\n",
    "outcome=outcome.astype('int')\n",
    "train = train.tolist()\n",
    "truth = truth.astype('int')\n",
    "test= test.tolist()\n",
    "bestScore = 0\n",
    "bestK = 1\n",
    "for k in range (1,36):\n",
    "    temp = neighbors.KNeighborsClassifier(k)\n",
    "    temp.fit(train, outcome)\n",
    "    \n",
    "    results = temp.predict(test)\n",
    "    score = metrics.accuracy_score(truth, results)\n",
    "    if (score>bestScore):\n",
    "        bestK=k\n",
    "        bestScore=score\n",
    "        \n",
    "temp = neighbors.KNeighborsClassifier(bestK)\n",
    "temp.fit(train, outcome)    \n",
    "results = temp.predict(test)\n",
    "print('Optimum value for k: '+str(bestK))"
   ]
  },
  {
   "cell_type": "code",
   "execution_count": 159,
   "metadata": {},
   "outputs": [
    {
     "name": "stdout",
     "output_type": "stream",
     "text": [
      "[[ 0.63404255  0.46994536]\n",
      " [ 0.47234043  0.39344262]]\n"
     ]
    },
    {
     "data": {
      "image/png": "[encoded data removed]",
      "text/plain": [
       "<matplotlib.figure.Figure at 0x108f27b8>"
      ]
     },
     "metadata": {},
     "output_type": "display_data"
    }
   ],
   "source": [
    "#Naive Bayes NB\n",
    "model = GaussianNB()\n",
    "model.fit(train, outcome)\n",
    "predicted = model.predict(test)\n",
    "\n",
    "#classification accuracy\n",
    "acc = accuracy_score(predicted, truth)\n",
    "#this array will contain accuracies for the classifiers from question 4\n",
    "accuracyResults = np.array([])\n",
    "accuracyResults = np.append(accuracyResults, ['Naive Bayes', acc], axis=0)\n",
    "\n",
    "#classification performance\n",
    "M = confusion_matrix(truth, predicted)\n",
    "avr = M.astype(float) / M.sum(axis=1)\n",
    "print avr\n",
    "\n",
    "#visual representation of classification performance\n",
    "plt.clf()\n",
    "plt.imshow(M, interpolation='nearest', cmap=plt.cm.Wistia)\n",
    "classNames = ['Survived','Not survived']\n",
    "plt.ylabel('Truth')\n",
    "plt.xlabel('Predicted')\n",
    "tick_marks = np.arange(len(classNames))\n",
    "plt.xticks(tick_marks, classNames, rotation=45)\n",
    "plt.yticks(tick_marks, classNames)\n",
    "s = [['TN','FP'], ['FN', 'TP']]\n",
    " \n",
    "for i in range(2):\n",
    "    for j in range(2):\n",
    "        plt.text(j,i, str(s[i][j])+\" = \"+str(M[i][j]))\n",
    "plt.show()"
   ]
  },
  {
   "cell_type": "code",
   "execution_count": 160,
   "metadata": {},
   "outputs": [
    {
     "name": "stdout",
     "output_type": "stream",
     "text": [
      "[[ 0.65957447  0.43715847]\n",
      " [ 0.47234043  0.39344262]]\n"
     ]
    },
    {
     "data": {
      "image/png": "[encoded data removed]",
      "text/plain": [
       "<matplotlib.figure.Figure at 0x10c07438>"
      ]
     },
     "metadata": {},
     "output_type": "display_data"
    }
   ],
   "source": [
    "#SVM\n",
    "\n",
    "#this array will contain classification accuracies for all SVM methods\n",
    "accuracySVM = np.array([])\n",
    "\n",
    "clf=svm.SVC(kernel='linear')\n",
    "clf.fit(train,outcome) \n",
    "predL = clf.predict(test)\n",
    "acc = accuracy_score(predL, truth)\n",
    "\n",
    "accuracySVM = np.append(accuracySVM, [\"linear\", acc], axis=0)\n",
    "\n",
    "clf=svm.SVC(kernel='rbf')\n",
    "clf.fit(train,outcome) \n",
    "predRBF = clf.predict(test)\n",
    "acc = accuracy_score(predRBF, truth)\n",
    "\n",
    "accuracySVM = np.append(accuracySVM, [\"RBF\", acc], axis=0)\n",
    "\n",
    "for i in range (2,11):\n",
    "    clf = svm.SVC(degree=i)\n",
    "    clf.fit(train,outcome) \n",
    "    pred = clf.predict(test)\n",
    "    acc = accuracy_score(pred, truth)\n",
    "\n",
    "    accuracySVM = np.append(accuracySVM, [\"polynomial with degree \"+str(i), acc], axis=0)\n",
    "\n",
    "accuracySVM.resize(11,2)\n",
    "temp = accuracySVM[:,1]\n",
    "temp = np.array(temp).astype(np.float)\n",
    "accuracyResults = np.append(accuracyResults, [accuracySVM[np.argmax(temp),0], accuracySVM[np.argmax(temp),1]], axis=0)\n",
    "\n",
    "#classification performance\n",
    "M = confusion_matrix(truth, predL)\n",
    "avr = M.astype(float) / M.sum(axis=1)\n",
    "print avr\n",
    "\n",
    "#visual representation of classification performance for linear SVM\n",
    "plt.clf()\n",
    "plt.imshow(M, interpolation='nearest', cmap=plt.cm.Wistia)\n",
    "classNames = ['Survived','Not survived']\n",
    "plt.ylabel('Truth')\n",
    "plt.xlabel('Predicted')\n",
    "tick_marks = np.arange(len(classNames))\n",
    "plt.xticks(tick_marks, classNames, rotation=45)\n",
    "plt.yticks(tick_marks, classNames)\n",
    "s = [['TN','FP'], ['FN', 'TP']]\n",
    " \n",
    "for i in range(2):\n",
    "    for j in range(2):\n",
    "        plt.text(j,i, str(s[i][j])+\" = \"+str(M[i][j]))\n",
    "plt.show()"
   ]
  },
  {
   "cell_type": "code",
   "execution_count": 161,
   "metadata": {},
   "outputs": [
    {
     "name": "stdout",
     "output_type": "stream",
     "text": [
      "[[ 0.67234043  0.42076503]\n",
      " [ 0.50638298  0.34972678]]\n"
     ]
    },
    {
     "data": {
      "image/png": "[encoded data removed]",
      "text/plain": [
       "<matplotlib.figure.Figure at 0xef359e8>"
      ]
     },
     "metadata": {},
     "output_type": "display_data"
    }
   ],
   "source": [
    "#Random Forest\n",
    "clf = RandomForestClassifier(n_estimators = 2, random_state=3)\n",
    "clf.fit(train,outcome)\n",
    "result = clf.predict(test)\n",
    "\n",
    "#classification accuracy\n",
    "acc = accuracy_score(result, truth)\n",
    "\n",
    "accuracyResults = np.append(accuracyResults, ['Random Forest', acc], axis=0)\n",
    "\n",
    "#classification performance\n",
    "M = confusion_matrix(truth, result)\n",
    "avr = M.astype(float) / M.sum(axis=1)\n",
    "print avr\n",
    "\n",
    "#visual representation of classification performance for linear SVM\n",
    "plt.clf()\n",
    "plt.imshow(M, interpolation='nearest', cmap=plt.cm.Wistia)\n",
    "classNames = ['Survived','Not survived']\n",
    "plt.ylabel('Truth')\n",
    "plt.xlabel('Predicted')\n",
    "tick_marks = np.arange(len(classNames))\n",
    "plt.xticks(tick_marks, classNames, rotation=45)\n",
    "plt.yticks(tick_marks, classNames)\n",
    "s = [['TN','FP'], ['FN', 'TP']]\n",
    " \n",
    "for i in range(2):\n",
    "    for j in range(2):\n",
    "        plt.text(j,i, str(s[i][j])+\" = \"+str(M[i][j]))\n",
    "plt.show()"
   ]
  },
  {
   "cell_type": "code",
   "execution_count": 162,
   "metadata": {},
   "outputs": [
    {
     "name": "stdout",
     "output_type": "stream",
     "text": [
      "linear achieves best performances 0.543062200957\n"
     ]
    }
   ],
   "source": [
    "#which classifier gives best results from question 4\n",
    "accuracyResults.resize(3,2)\n",
    "temp = accuracyResults[:,1]\n",
    "temp = np.array(temp).astype(np.float)\n",
    "print(accuracyResults[np.argmax(temp),0] + \" achieves best performances \" + accuracyResults[np.argmax(temp),1])"
   ]
  },
  {
   "cell_type": "code",
   "execution_count": 163,
   "metadata": {
    "collapsed": true
   },
   "outputs": [],
   "source": [
    "allData = np.concatenate((train, test), axis=0)\n",
    "allOutcome = np.concatenate((outcome, truth), axis=0)"
   ]
  },
  {
   "cell_type": "code",
   "execution_count": 164,
   "metadata": {
    "collapsed": true
   },
   "outputs": [],
   "source": [
    "#Cross validation(s)"
   ]
  },
  {
   "cell_type": "code",
   "execution_count": 165,
   "metadata": {},
   "outputs": [
    {
     "name": "stdout",
     "output_type": "stream",
     "text": [
      "0.726482677628\n"
     ]
    }
   ],
   "source": [
    "k_fold = KFold(n_splits=10,random_state=1234567890,shuffle=True)\n",
    "svc = svm.SVC()\n",
    "g=cross_val_score(svc, allData, allOutcome, cv=k_fold)\n",
    "accuracyKfold=np.average(g)\n",
    "print(accuracyKfold)"
   ]
  },
  {
   "cell_type": "code",
   "execution_count": 166,
   "metadata": {},
   "outputs": [
    {
     "name": "stdout",
     "output_type": "stream",
     "text": [
      "0.72192513369\n"
     ]
    }
   ],
   "source": [
    "k_fold = LeaveOneOut()\n",
    "svc = svm.SVC()\n",
    "resLOO=cross_val_score(svc, allData, allOutcome, cv=k_fold)\n",
    "accuracyLOO=resLOO.mean()\n",
    "print(accuracyLOO)"
   ]
  },
  {
   "cell_type": "code",
   "execution_count": 167,
   "metadata": {},
   "outputs": [
    {
     "name": "stdout",
     "output_type": "stream",
     "text": [
      "0.724360308902\n"
     ]
    }
   ],
   "source": [
    "k_fold = StratifiedKFold(n_splits=10)\n",
    "svc = svm.SVC()\n",
    "resStrat=cross_val_score(svc, allData, allOutcome, cv=k_fold, n_jobs=-1)\n",
    "accuracyStratKfold=np.average(resStrat)\n",
    "print(accuracyStratKfold)"
   ]
  }
 ],
 "metadata": {
  "kernelspec": {
   "display_name": "Python 3",
   "language": "python",
   "name": "python3"
  },
  "language_info": {
   "codemirror_mode": {
    "name": "ipython",
    "version": 3
   },
   "file_extension": ".py",
   "mimetype": "text/x-python",
   "name": "python",
   "nbconvert_exporter": "python",
   "pygments_lexer": "ipython3",
   "version": "3.6.2"
  }
 },
 "nbformat": 4,
 "nbformat_minor": 2
}
